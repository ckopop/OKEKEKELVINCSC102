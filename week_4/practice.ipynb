{
 "cells": [
  {
   "cell_type": "markdown",
   "id": "75b08860",
   "metadata": {},
   "source": [
    "Cell_1\n"
   ]
  },
  {
   "cell_type": "code",
   "execution_count": 1,
   "id": "e227a478",
   "metadata": {},
   "outputs": [
    {
     "name": "stdout",
     "output_type": "stream",
     "text": [
      "The name of city 1 after swapping is: lagos\n",
      "The name of city 2 after swapping is lagos\n"
     ]
    }
   ],
   "source": [
    "# python program to swap two cities\n",
    "\n",
    "# to take inputs from the user\n",
    "city_1 = input('Enter name of city 1:')\n",
    "city_2 = input('Enter name of city 2:')\n",
    "\n",
    "# create a temporary variable and swap the values\n",
    "temp = city_1\n",
    "city_1 = city_2\n",
    "city_2 = temp\n",
    "\n",
    "# display the swapped values\n",
    "print(f\"The name of city 1 after swapping is: {city_1}\")\n",
    "print(f\"The name of city 2 after swapping is {city_2}\")"
   ]
  },
  {
   "cell_type": "markdown",
   "id": "5c244340",
   "metadata": {},
   "source": [
    "Cell_2\n"
   ]
  },
  {
   "cell_type": "code",
   "execution_count": 2,
   "id": "84b31ef7",
   "metadata": {},
   "outputs": [
    {
     "name": "stdout",
     "output_type": "stream",
     "text": [
      "Positive number\n"
     ]
    }
   ],
   "source": [
    "# Program to check if a number is positive, negative or zero\n",
    "\n",
    "num = float(input(\"Enter a number: \"))\n",
    "if num > 0:\n",
    "    print(\"Positive number\")\n",
    "elif num == 0:\n",
    "    print(\"Zero\")\n",
    "else:\n",
    "    print(\"Negative number)\")"
   ]
  },
  {
   "cell_type": "markdown",
   "id": "5369a63f",
   "metadata": {},
   "source": [
    "cell_3\n"
   ]
  },
  {
   "cell_type": "code",
   "execution_count": 3,
   "id": "2232d458",
   "metadata": {},
   "outputs": [
    {
     "name": "stdout",
     "output_type": "stream",
     "text": [
      "Welcome to the COUPE DE ESCRIVA 2023: Football PICKS \n",
      "\n",
      "Madiba: Chubby Obiora-Okafo\n",
      "Blue-Jays:  Christopher uweh\n",
      "Cirok:  Timileyin Pearse/Izuako Jeremy\n",
      "TSG Walkers:  Ayomide ojituku\n",
      "\n",
      "\n",
      "Madiba: Chubby Obiora-Okafo\n",
      "Blue-Jays:  Christopher uweh\n",
      "Cirok:  Timileyin Pearse/Izuako Jeremy\n",
      "TSG Walkers:  Ayomide ojituku\n"
     ]
    }
   ],
   "source": [
    "# COUPE DE ESCRIVA 2023: FOOTBALL PICKS\n",
    "\n",
    "print(\"Welcome to the COUPE DE ESCRIVA 2023: Football PICKS \\n\")\n",
    "captain = {'Madiba:': 'Chubby Obiora-Okafo', 'Blue-Jays: ':'Christopher uweh','Cirok: ': 'Timileyin Pearse/Izuako Jeremy','TSG Walkers: ': 'Ayomide ojituku'}\n",
    "goalkeepers = {'Madiba:': 'Chubby Obiora-Okafo', 'Blue-Jays: ':'Christopher uweh','Cirok: ': 'Timileyin Pearse/Izuako Jeremy','TSG Walkers: ': 'Ayomide ojituku'}\n",
    "for pick in captain:\n",
    "    print(pick, captain[pick])\n",
    "print(\"\\n\")\n",
    "\n",
    "for pick in goalkeepers:\n",
    "    print(pick, goalkeepers[pick])\n"
   ]
  },
  {
   "cell_type": "code",
   "execution_count": 4,
   "id": "b0f569d1",
   "metadata": {},
   "outputs": [
    {
     "name": "stdout",
     "output_type": "stream",
     "text": [
      "       Name  Age  Height  Scores\n",
      "0    Evelyn   17     5.5      80\n",
      "1   Jessica   16     6.0      85\n",
      "2     Somto   17     5.4      70\n",
      "3     Edith   18     5.9      60\n",
      "4      Liza   16     5.6      76\n",
      "5   Madonna   18     5.5      66\n",
      "6      Waje   17     6.1      87\n",
      "7      Tola   20     6.0      95\n",
      "8     Aisha   19     5.7      50\n",
      "9    Latifa   17     5.5      49\n",
      "10  Chinedu   19     5.7      74\n",
      "11     Liam   16     5.9      87\n",
      "12     Wale   18     5.8      75\n",
      "13   Gbenga   17     6.1      68\n",
      "14   Abiola   20     5.9      66\n",
      "15     Kola   19     5.5      78\n",
      "16    Kunle   16     6.1      87\n",
      "17   George   18     5.4      98\n",
      "18   Thomas   17     5.8      54\n",
      "19   Wesley   19     5.7      60\n"
     ]
    }
   ],
   "source": [
    "import pandas as pd\n",
    "\n",
    "# Data for girls\n",
    "girls_data = {\n",
    "    'Name': ['Evelyn', 'Jessica', 'Somto', 'Edith', 'Liza', 'Madonna', 'Waje', 'Tola', 'Aisha', 'Latifa'],\n",
    "    'Age': [17, 16, 17, 18, 16, 18, 17, 20, 19, 17],\n",
    "    'Height': [5.5, 6.0, 5.4, 5.9, 5.6, 5.5, 6.1, 6.0, 5.7, 5.5],\n",
    "    'Scores': [80, 85, 70, 60, 76, 66, 87, 95, 50, 49]\n",
    "}\n",
    "\n",
    "# Data for boys\n",
    "boys_data = {\n",
    "    'Name': ['Chinedu', 'Liam', 'Wale', 'Gbenga', 'Abiola', 'Kola', 'Kunle', 'George', 'Thomas', 'Wesley'],\n",
    "    'Age': [19, 16, 18, 17, 20, 19, 16, 18, 17, 19],\n",
    "    'Height': [5.7, 5.9, 5.8, 6.1, 5.9, 5.5, 6.1, 5.4, 5.8, 5.7],\n",
    "    'Scores': [74, 87, 75, 68, 66, 78, 87, 98, 54, 60]\n",
    "}\n",
    "\n",
    "# Combine data\n",
    "students_data = pd.concat([pd.DataFrame(girls_data), pd.DataFrame(boys_data)], ignore_index=True)\n",
    "\n",
    "# Display the data in tabular form\n",
    "print(students_data)"
   ]
  },
  {
   "cell_type": "code",
   "execution_count": 5,
   "id": "5ea4824b",
   "metadata": {},
   "outputs": [
    {
     "name": "stdout",
     "output_type": "stream",
     "text": [
      "The Annual Tax Revenue (ATR) is: ₦5,600,000\n"
     ]
    }
   ],
   "source": [
    "# Program to calculate Annual Tax Revenue (ATR) based on years of experience and age\n",
    "\n",
    "# Input years of experience and age\n",
    "years_of_experience = int(input(\"Enter years of experience: \"))\n",
    "age = int(input(\"Enter age: \"))\n",
    "\n",
    "# Calculate ATR based on conditions\n",
    "if years_of_experience > 25 and age >= 55:\n",
    "    atr = 5600000\n",
    "elif years_of_experience > 20 and age >= 45:\n",
    "    atr = 4480000\n",
    "elif years_of_experience > 10 and age >= 35:\n",
    "    atr = 1500000\n",
    "else:\n",
    "    atr = 550000\n",
    "\n",
    "# Display the ATR\n",
    "print(f\"The Annual Tax Revenue (ATR) is: ₦{atr:,}\")"
   ]
  }
 ],
 "metadata": {
  "kernelspec": {
   "display_name": "base",
   "language": "python",
   "name": "python3"
  },
  "language_info": {
   "codemirror_mode": {
    "name": "ipython",
    "version": 3
   },
   "file_extension": ".py",
   "mimetype": "text/x-python",
   "name": "python",
   "nbconvert_exporter": "python",
   "pygments_lexer": "ipython3",
   "version": "3.12.7"
  }
 },
 "nbformat": 4,
 "nbformat_minor": 5
}
